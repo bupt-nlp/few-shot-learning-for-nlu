{
 "metadata": {
  "language_info": {
   "codemirror_mode": {
    "name": "ipython",
    "version": 3
   },
   "file_extension": ".py",
   "mimetype": "text/x-python",
   "name": "python",
   "nbconvert_exporter": "python",
   "pygments_lexer": "ipython3",
   "version": "3.7.11"
  },
  "orig_nbformat": 4,
  "kernelspec": {
   "name": "python3",
   "display_name": "Python 3.7.11 64-bit (conda)"
  },
  "interpreter": {
   "hash": "4816ee774b4470f24801945bbdd7cff0d32dfb43899b033a36768c20bd295fef"
  }
 },
 "nbformat": 4,
 "nbformat_minor": 2,
 "cells": [
  {
   "cell_type": "code",
   "execution_count": 4,
   "metadata": {},
   "outputs": [
    {
     "output_type": "stream",
     "name": "stderr",
     "text": [
      "Downloading: 100%|██████████| 110k/110k [00:00<00:00, 258kB/s] \n",
      "Downloading: 100%|██████████| 29.0/29.0 [00:00<00:00, 28.9kB/s]\n",
      "Downloading: 100%|██████████| 269k/269k [00:01<00:00, 139kB/s]\n",
      "Downloading: 100%|██████████| 624/624 [00:00<00:00, 311kB/s]\n"
     ]
    }
   ],
   "source": [
    "from transformers.models.bert import BertTokenizer\n",
    "tokenizer = BertTokenizer.from_pretrained('bert-base-chinese')"
   ]
  },
  {
   "cell_type": "code",
   "execution_count": 5,
   "metadata": {},
   "outputs": [
    {
     "output_type": "stream",
     "name": "stderr",
     "text": [
      "Truncation was not explicitly activated but `max_length` is provided a specific value, please use `truncation=True` to explicitly truncate examples to max length. Defaulting to 'longest_first' truncation strategy. If you encode pairs of sequences (GLUE-style) with the tokenizer you can select this strategy more precisely by providing a specific strategy to `truncation`.\n"
     ]
    }
   ],
   "source": [
    "text = '我爱你'\n",
    "res = tokenizer(text, add_special_tokens=True, max_length=20, return_attention_mask=True, return_tensors='pt', return_token_type_ids=True, return_length=True, return_special_tokens_mask=True)"
   ]
  },
  {
   "cell_type": "code",
   "execution_count": 8,
   "metadata": {},
   "outputs": [
    {
     "output_type": "stream",
     "name": "stdout",
     "text": [
      "dict_keys(['input_ids', 'token_type_ids', 'special_tokens_mask', 'attention_mask', 'length'])\n"
     ]
    },
    {
     "output_type": "execute_result",
     "data": {
      "text/plain": [
       "tensor([[1, 0, 0, 0, 1]])"
      ]
     },
     "metadata": {},
     "execution_count": 8
    }
   ],
   "source": [
    "print(res.keys())\n",
    "\n",
    "res.special_tokens_mask"
   ]
  }
 ]
}